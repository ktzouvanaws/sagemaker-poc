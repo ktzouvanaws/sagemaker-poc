{
 "cells": [
  {
   "cell_type": "code",
   "execution_count": 1,
   "id": "94880dae-82c7-4d4b-be34-419ea3dbfa01",
   "metadata": {},
   "outputs": [
    {
     "name": "stdout",
     "output_type": "stream",
     "text": [
      "sagemaker.config INFO - Not applying SDK defaults from location: /etc/xdg/sagemaker/config.yaml\n",
      "sagemaker.config INFO - Not applying SDK defaults from location: /home/sagemaker-user/.config/sagemaker/config.yaml\n"
     ]
    }
   ],
   "source": [
    "import sagemaker\n",
    "from sagemaker.processing import ScriptProcessor\n",
    "\n",
    "xgboost_container_uri = sagemaker.image_uris.retrieve(\"xgboost\", 'eu-west-1', \"1.7-1\")\n",
    "\n",
    "evaluation_processor = ScriptProcessor(\n",
    "    image_uri=xgboost_container_uri,\n",
    "    command=[\"python3\"],\n",
    "    instance_type='ml.m5.large',\n",
    "    instance_count=1,\n",
    "    base_job_name=\"evaluate\",\n",
    "    role=sagemaker.get_execution_role(),\n",
    ")"
   ]
  },
  {
   "cell_type": "code",
   "execution_count": 2,
   "id": "146dbbc6-34e8-4d81-a87d-96539df8bf4b",
   "metadata": {},
   "outputs": [
    {
     "name": "stdout",
     "output_type": "stream",
     "text": [
      "importing Jupyter notebook from c2_training_step.ipynb\n"
     ]
    }
   ],
   "source": [
    "import import_ipynb\n",
    "import c2_training_step\n",
    "\n",
    "from sagemaker.processing import ProcessingInput, ProcessingOutput\n",
    "from sagemaker.workflow.steps import ProcessingStep\n",
    "\n",
    "#training_step = c2_training_step.create_training_step()\n",
    "\n",
    "# define inputs\n",
    "#model_processing_input = ProcessingInput(source=training_step.properties.ModelArtifacts.S3ModelArtifacts, destination=\"/opt/ml/processing/model\")\n",
    "model_processing_input = ProcessingInput(source='s3://ktzouvan-trading-point-sagemaker-poc/models/pipelines-3ol04e0v16ml-training-step-sALSc8gqXi/output/', destination=\"/opt/ml/processing/model\")\n",
    "data_processing_input = ProcessingInput(source='s3://ktzouvan-trading-point-sagemaker-poc/datasets/marketing/', destination=\"/opt/ml/processing/test\")\n",
    "\n",
    "# define output\n",
    "evaluation_processing_output = ProcessingOutput(output_name=\"evaluation\", source=\"/opt/ml/processing/evaluation\", destination='s3://ktzouvan-trading-point-sagemaker-poc/models/pipelines-3ol04e0v16ml-training-step-sALSc8gqXi/output/')\n"
   ]
  },
  {
   "cell_type": "code",
   "execution_count": 3,
   "id": "aa37f48a-08fd-4330-a162-ab733779d584",
   "metadata": {},
   "outputs": [
    {
     "name": "stderr",
     "output_type": "stream",
     "text": [
      "INFO:sagemaker:Creating processing-job with name evaluate-2024-09-01-17-56-47-736\n"
     ]
    },
    {
     "name": "stdout",
     "output_type": "stream",
     "text": [
      "..............\u001b[34mcreating temp folder\u001b[0m\n",
      "\u001b[34mloading model:/opt/ml/processing/model/model.tar.gz\u001b[0m\n",
      "\u001b[34m{'binary_classification_metrics': {'accuracy': {'value': 0.8824957513959699, 'standard_deviation': 'NaN'}, 'auc': {'value': 0.5, 'standard_deviation': 'NaN'}}}\u001b[0m\n",
      "\u001b[34mSaving classification report to /opt/ml/processing/evaluation/0_evaluation.json\u001b[0m\n",
      "\n"
     ]
    }
   ],
   "source": [
    "evaluation_processor.run(\n",
    "    code='d1_post_processing.py',\n",
    "    arguments=['--model_path', '/opt/ml/processing/model','--model_file', 'model.tar.gz','--data_path', '/opt/ml/processing/test', '--output_path', '/opt/ml/processing/evaluation'],\n",
    "    inputs=[model_processing_input,  data_processing_input],\n",
    "    outputs=[evaluation_processing_output]\n",
    ")"
   ]
  },
  {
   "cell_type": "code",
   "execution_count": null,
   "id": "eedcad32-948d-4659-8f43-409a7753ebb2",
   "metadata": {},
   "outputs": [],
   "source": []
  }
 ],
 "metadata": {
  "kernelspec": {
   "display_name": "Python 3 (ipykernel)",
   "language": "python",
   "name": "python3"
  },
  "language_info": {
   "codemirror_mode": {
    "name": "ipython",
    "version": 3
   },
   "file_extension": ".py",
   "mimetype": "text/x-python",
   "name": "python",
   "nbconvert_exporter": "python",
   "pygments_lexer": "ipython3",
   "version": "3.10.14"
  }
 },
 "nbformat": 4,
 "nbformat_minor": 5
}
