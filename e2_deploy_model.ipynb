{
 "cells": [
  {
   "cell_type": "code",
   "execution_count": 3,
   "id": "bbb1ca40-9c1b-4dbd-94e2-088bb915d639",
   "metadata": {},
   "outputs": [
    {
     "name": "stdout",
     "output_type": "stream",
     "text": [
      "arn:aws:sagemaker:eu-west-1:864814979818:model-package/poc-model/7\n"
     ]
    }
   ],
   "source": [
    "import boto3\n",
    "import sagemaker\n",
    "from sagemaker import ModelPackage\n",
    "\n",
    "# Initialize the SageMaker client\n",
    "sagemaker_client = boto3.client('sagemaker')\n",
    "\n",
    "# Define your model package group name\n",
    "model_package_group_name = \"poc-model\"\n",
    "\n",
    "# List the latest model package\n",
    "response = sagemaker_client.list_model_packages(\n",
    "    ModelPackageGroupName=model_package_group_name,\n",
    "    SortBy='CreationTime',\n",
    "    SortOrder='Descending',\n",
    "    MaxResults=1\n",
    ")\n",
    "\n",
    "# get most recent arn\n",
    "model_package_arn = response['ModelPackageSummaryList'][0]['ModelPackageArn']\n",
    "print(model_package_arn)"
   ]
  },
  {
   "cell_type": "code",
   "execution_count": 4,
   "id": "7dd76fdf-3e34-4343-bc2f-4aeb871110d7",
   "metadata": {},
   "outputs": [
    {
     "name": "stdout",
     "output_type": "stream",
     "text": [
      "------!"
     ]
    }
   ],
   "source": [
    "# Initialize SageMaker session\n",
    "sagemaker_session = sagemaker.Session()\n",
    "\n",
    "# Create a ModelPackage object\n",
    "model_package = ModelPackage(\n",
    "    role=sagemaker.get_execution_role(),\n",
    "    model_package_arn=model_package_arn,\n",
    "    sagemaker_session=sagemaker_session\n",
    ")\n",
    "\n",
    "# Deploy the model to an endpoint\n",
    "predictor = model_package.deploy(\n",
    "    initial_instance_count=1,  # Number of instances for the endpoint\n",
    "    instance_type='ml.m5.large'  # Type of instance\n",
    ")\n",
    "\n",
    "# Optionally, test the deployed model\n",
    "# result = predictor.predict(data)\n",
    "# print(result)"
   ]
  },
  {
   "cell_type": "code",
   "execution_count": null,
   "id": "5cb93970-b6c4-4421-af5e-d03b62b9a79a",
   "metadata": {},
   "outputs": [],
   "source": [
    "# test inference with : 0,1000,0,0,0,0 | 0,1,0,0,0,0"
   ]
  }
 ],
 "metadata": {
  "kernelspec": {
   "display_name": "Python 3 (ipykernel)",
   "language": "python",
   "name": "python3"
  },
  "language_info": {
   "codemirror_mode": {
    "name": "ipython",
    "version": 3
   },
   "file_extension": ".py",
   "mimetype": "text/x-python",
   "name": "python",
   "nbconvert_exporter": "python",
   "pygments_lexer": "ipython3",
   "version": "3.10.14"
  }
 },
 "nbformat": 4,
 "nbformat_minor": 5
}
