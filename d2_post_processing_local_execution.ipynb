{
 "cells": [
  {
   "cell_type": "code",
   "execution_count": 1,
   "id": "753d9cad-f0f4-4fe4-8756-ebc84fda2f84",
   "metadata": {},
   "outputs": [
    {
     "name": "stdout",
     "output_type": "stream",
     "text": [
      "creating temp folder\n",
      "loading model:0_model.tar.gz\n",
      "{'binary_classification_metrics': {'accuracy': {'value': 0.8824957513959699, 'standard_deviation': 'NaN'}, 'auc': {'value': 0.5, 'standard_deviation': 'NaN'}}}\n",
      "Saving classification report to 0_evaluation.json\n"
     ]
    }
   ],
   "source": [
    "%run d1_post_processing.py"
   ]
  },
  {
   "cell_type": "code",
   "execution_count": null,
   "id": "75859b1e-cfc9-494b-ac3b-d9571b79a803",
   "metadata": {},
   "outputs": [],
   "source": []
  },
  {
   "cell_type": "code",
   "execution_count": null,
   "id": "35bc9e00-6b89-4eba-8c0c-a596261bfadb",
   "metadata": {},
   "outputs": [],
   "source": []
  }
 ],
 "metadata": {
  "kernelspec": {
   "display_name": "Python 3 (ipykernel)",
   "language": "python",
   "name": "python3"
  },
  "language_info": {
   "codemirror_mode": {
    "name": "ipython",
    "version": 3
   },
   "file_extension": ".py",
   "mimetype": "text/x-python",
   "name": "python",
   "nbconvert_exporter": "python",
   "pygments_lexer": "ipython3",
   "version": "3.10.14"
  }
 },
 "nbformat": 4,
 "nbformat_minor": 5
}
