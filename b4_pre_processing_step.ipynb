{
 "cells": [
  {
   "cell_type": "markdown",
   "id": "9e94f58e-8c10-4c58-8896-f68eb1998b1d",
   "metadata": {},
   "source": [
    "### Libraries"
   ]
  },
  {
   "cell_type": "code",
   "execution_count": 1,
   "id": "f80317e5-8080-4d06-8fb3-e1e7b668305f",
   "metadata": {
    "editable": true,
    "slideshow": {
     "slide_type": ""
    },
    "tags": []
   },
   "outputs": [
    {
     "name": "stdout",
     "output_type": "stream",
     "text": [
      "sagemaker.config INFO - Not applying SDK defaults from location: /etc/xdg/sagemaker/config.yaml\n",
      "sagemaker.config INFO - Not applying SDK defaults from location: /home/sagemaker-user/.config/sagemaker/config.yaml\n"
     ]
    }
   ],
   "source": [
    "from sagemaker.workflow.steps import ProcessingStep\n",
    "from sagemaker.processing import ProcessingInput, ProcessingOutput\n",
    "from sagemaker.sklearn.processing import SKLearnProcessor\n",
    "from sagemaker import get_execution_role"
   ]
  },
  {
   "cell_type": "markdown",
   "id": "d4533e74-a5bd-4882-9741-da85f26ee920",
   "metadata": {},
   "source": [
    "### Build a pipeline step with Processor, Input, Output"
   ]
  },
  {
   "cell_type": "code",
   "execution_count": 1,
   "id": "ceb146c9-7a6a-44e3-96ca-023fb52935a8",
   "metadata": {},
   "outputs": [],
   "source": [
    "def create_pre_processing_step():\n",
    "\n",
    "    # inputs\n",
    "    s3_input_file = 's3://ktzouvan-trading-point-sagemaker-poc/datasets/marketing/bank-additional-full.csv'\n",
    "    dataset_processing_input = ProcessingInput(source=s3_input_file, destination=\"/opt/ml/processing/input\", s3_input_mode=\"File\", s3_data_distribution_type=\"ShardedByS3Key\")\n",
    "\n",
    "    # outputs\n",
    "    s3_output_path = 's3://ktzouvan-trading-point-sagemaker-poc/datasets/marketing/'\n",
    "    splits_processing_output = ProcessingOutput(source=\"/opt/ml/processing/output\", destination=s3_output_path)\n",
    "\n",
    "    # processor\n",
    "    sklearn_processor = SKLearnProcessor(\n",
    "        framework_version=\"0.23-1\",\n",
    "        role=get_execution_role(),\n",
    "        instance_type=\"ml.m5.large\",\n",
    "        instance_count=1, \n",
    "        base_job_name='sm-tp-poc-pre-process'\n",
    "    )\n",
    "\n",
    "    pre_processing_step = ProcessingStep(\n",
    "        name=\"pre-processing\",\n",
    "        processor=sklearn_processor,\n",
    "        inputs=[dataset_processing_input],\n",
    "        outputs=[splits_processing_output],\n",
    "        job_arguments =['--input_path', '/opt/ml/processing/input','--input_file', 'bank-additional-full.csv','--output_path', '/opt/ml/processing/output'],\n",
    "        code=\"b1_pre_processing.py\",\n",
    "    )\n",
    "\n",
    "    return pre_processing_step"
   ]
  },
  {
   "cell_type": "markdown",
   "id": "ade9f891-3eab-4d54-8985-a521ba49a80b",
   "metadata": {},
   "source": [
    "### Step definition"
   ]
  },
  {
   "cell_type": "code",
   "execution_count": 3,
   "id": "950e3b2c-8606-4a3b-8145-1e824804747a",
   "metadata": {
    "editable": true,
    "slideshow": {
     "slide_type": ""
    },
    "tags": []
   },
   "outputs": [],
   "source": [
    "#pre_processing_step = create_pre_processing_step()\n",
    "#pre_processing_step"
   ]
  },
  {
   "cell_type": "code",
   "execution_count": null,
   "id": "4ba47578-ec55-4209-afc3-090cf12f5497",
   "metadata": {},
   "outputs": [],
   "source": []
  }
 ],
 "metadata": {
  "kernelspec": {
   "display_name": "Python 3 (ipykernel)",
   "language": "python",
   "name": "python3"
  },
  "language_info": {
   "codemirror_mode": {
    "name": "ipython",
    "version": 3
   },
   "file_extension": ".py",
   "mimetype": "text/x-python",
   "name": "python",
   "nbconvert_exporter": "python",
   "pygments_lexer": "ipython3",
   "version": "3.10.14"
  }
 },
 "nbformat": 4,
 "nbformat_minor": 5
}
