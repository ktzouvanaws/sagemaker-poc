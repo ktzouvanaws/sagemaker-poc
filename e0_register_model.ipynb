{
 "cells": [
  {
   "cell_type": "code",
   "execution_count": null,
   "id": "4a939662-4785-4a95-ac31-2cf73a3ef7b0",
   "metadata": {},
   "outputs": [],
   "source": [
    "#!pip install import-ipynb -q"
   ]
  },
  {
   "cell_type": "code",
   "execution_count": 4,
   "id": "50068225-e222-414d-9f6d-1183b500d77b",
   "metadata": {},
   "outputs": [],
   "source": [
    "import sagemaker\n",
    "from sagemaker.model import ModelPackage"
   ]
  },
  {
   "cell_type": "code",
   "execution_count": 5,
   "id": "9d66240c-1fec-4803-97bf-77f0c0df5d72",
   "metadata": {},
   "outputs": [],
   "source": [
    "import import_ipynb\n",
    "import c2_training_xgboost_step"
   ]
  },
  {
   "cell_type": "code",
   "execution_count": 9,
   "id": "47bd3f2f-668a-4ee9-9a6e-306a101b815e",
   "metadata": {},
   "outputs": [
    {
     "ename": "ValueError",
     "evalue": "either model_package_arn or algorithm_arn is required. None was provided.",
     "output_type": "error",
     "traceback": [
      "\u001b[0;31m---------------------------------------------------------------------------\u001b[0m",
      "\u001b[0;31mValueError\u001b[0m                                Traceback (most recent call last)",
      "Cell \u001b[0;32mIn[9], line 4\u001b[0m\n\u001b[1;32m      1\u001b[0m training_step \u001b[38;5;241m=\u001b[39m c2_training_xgboost_step\u001b[38;5;241m.\u001b[39mcreate_training_step()\n\u001b[1;32m      3\u001b[0m \u001b[38;5;66;03m# Register the model package\u001b[39;00m\n\u001b[0;32m----> 4\u001b[0m model_package \u001b[38;5;241m=\u001b[39m \u001b[43mModelPackage\u001b[49m\u001b[43m(\u001b[49m\n\u001b[1;32m      5\u001b[0m \u001b[43m    \u001b[49m\u001b[43mname\u001b[49m\u001b[38;5;241;43m=\u001b[39;49m\u001b[38;5;124;43m'\u001b[39;49m\u001b[38;5;124;43mpoc-model\u001b[39;49m\u001b[38;5;124;43m'\u001b[39;49m\u001b[43m,\u001b[49m\n\u001b[1;32m      6\u001b[0m \u001b[43m    \u001b[49m\u001b[43mmodel_data\u001b[49m\u001b[38;5;241;43m=\u001b[39;49m\u001b[43mtraining_step\u001b[49m\u001b[38;5;241;43m.\u001b[39;49m\u001b[43mproperties\u001b[49m\u001b[38;5;241;43m.\u001b[39;49m\u001b[43mModelArtifacts\u001b[49m\u001b[38;5;241;43m.\u001b[39;49m\u001b[43mS3ModelArtifacts\u001b[49m\u001b[43m,\u001b[49m\n\u001b[1;32m      7\u001b[0m \u001b[43m    \u001b[49m\n\u001b[1;32m      8\u001b[0m \u001b[43m    \u001b[49m\u001b[43mrole\u001b[49m\u001b[38;5;241;43m=\u001b[39;49m\u001b[43msagemaker\u001b[49m\u001b[38;5;241;43m.\u001b[39;49m\u001b[43mget_execution_role\u001b[49m\u001b[43m(\u001b[49m\u001b[43m)\u001b[49m\u001b[43m,\u001b[49m\n\u001b[1;32m      9\u001b[0m \u001b[43m    \u001b[49m\u001b[43msagemaker_session\u001b[49m\u001b[38;5;241;43m=\u001b[39;49m\u001b[43msagemaker\u001b[49m\u001b[38;5;241;43m.\u001b[39;49m\u001b[43mSession\u001b[49m\u001b[43m(\u001b[49m\u001b[43m)\u001b[49m\n\u001b[1;32m     10\u001b[0m \u001b[43m)\u001b[49m\n\u001b[1;32m     11\u001b[0m model_package\u001b[38;5;241m.\u001b[39mcreate()\n",
      "File \u001b[0;32m/opt/conda/lib/python3.10/site-packages/sagemaker/model.py:2133\u001b[0m, in \u001b[0;36mModelPackage.__init__\u001b[0;34m(self, role, model_data, algorithm_arn, model_package_arn, **kwargs)\u001b[0m\n\u001b[1;32m   2126\u001b[0m     \u001b[38;5;28;01mraise\u001b[39;00m \u001b[38;5;167;01mValueError\u001b[39;00m(\n\u001b[1;32m   2127\u001b[0m         \u001b[38;5;124m\"\u001b[39m\u001b[38;5;124mmodel_package_arn and algorithm_arn are mutually exclusive.\u001b[39m\u001b[38;5;124m\"\u001b[39m\n\u001b[1;32m   2128\u001b[0m         \u001b[38;5;124m\"\u001b[39m\u001b[38;5;124mBoth were provided: model_package_arn: \u001b[39m\u001b[38;5;132;01m%s\u001b[39;00m\u001b[38;5;124m algorithm_arn: \u001b[39m\u001b[38;5;132;01m%s\u001b[39;00m\u001b[38;5;124m\"\u001b[39m\n\u001b[1;32m   2129\u001b[0m         \u001b[38;5;241m%\u001b[39m (model_package_arn, algorithm_arn)\n\u001b[1;32m   2130\u001b[0m     )\n\u001b[1;32m   2132\u001b[0m \u001b[38;5;28;01mif\u001b[39;00m model_package_arn \u001b[38;5;129;01mis\u001b[39;00m \u001b[38;5;28;01mNone\u001b[39;00m \u001b[38;5;129;01mand\u001b[39;00m algorithm_arn \u001b[38;5;129;01mis\u001b[39;00m \u001b[38;5;28;01mNone\u001b[39;00m:\n\u001b[0;32m-> 2133\u001b[0m     \u001b[38;5;28;01mraise\u001b[39;00m \u001b[38;5;167;01mValueError\u001b[39;00m(\n\u001b[1;32m   2134\u001b[0m         \u001b[38;5;124m\"\u001b[39m\u001b[38;5;124meither model_package_arn or algorithm_arn is required.\u001b[39m\u001b[38;5;124m\"\u001b[39m \u001b[38;5;124m\"\u001b[39m\u001b[38;5;124m None was provided.\u001b[39m\u001b[38;5;124m\"\u001b[39m\n\u001b[1;32m   2135\u001b[0m     )\n\u001b[1;32m   2137\u001b[0m \u001b[38;5;28mself\u001b[39m\u001b[38;5;241m.\u001b[39malgorithm_arn \u001b[38;5;241m=\u001b[39m algorithm_arn\n\u001b[1;32m   2138\u001b[0m \u001b[38;5;28;01mif\u001b[39;00m \u001b[38;5;28mself\u001b[39m\u001b[38;5;241m.\u001b[39malgorithm_arn \u001b[38;5;129;01mis\u001b[39;00m \u001b[38;5;129;01mnot\u001b[39;00m \u001b[38;5;28;01mNone\u001b[39;00m:\n",
      "\u001b[0;31mValueError\u001b[0m: either model_package_arn or algorithm_arn is required. None was provided."
     ]
    }
   ],
   "source": [
    "training_step = c2_training_xgboost_step.create_training_step()\n",
    "\n",
    "# Register the model package\n",
    "model_package = ModelPackage(\n",
    "    name='poc-model',\n",
    "    model_data=training_step.properties.ModelArtifacts.S3ModelArtifacts,\n",
    "    \n",
    "    role=sagemaker.get_execution_role(),\n",
    "    sagemaker_session=sagemaker.Session()\n",
    ")\n",
    "model_package.create()"
   ]
  },
  {
   "cell_type": "code",
   "execution_count": null,
   "id": "9db9ab0c-4a01-4538-b51c-4ef22c3969fd",
   "metadata": {},
   "outputs": [],
   "source": []
  }
 ],
 "metadata": {
  "kernelspec": {
   "display_name": "Python 3 (ipykernel)",
   "language": "python",
   "name": "python3"
  },
  "language_info": {
   "codemirror_mode": {
    "name": "ipython",
    "version": 3
   },
   "file_extension": ".py",
   "mimetype": "text/x-python",
   "name": "python",
   "nbconvert_exporter": "python",
   "pygments_lexer": "ipython3",
   "version": "3.10.14"
  }
 },
 "nbformat": 4,
 "nbformat_minor": 5
}
