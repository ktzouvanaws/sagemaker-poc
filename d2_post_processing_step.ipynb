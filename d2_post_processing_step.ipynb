{
 "cells": [
  {
   "cell_type": "code",
   "execution_count": 2,
   "id": "9c3321c3-129f-45f0-9a7e-318e7142cc0e",
   "metadata": {},
   "outputs": [],
   "source": [
    "import sagemaker\n",
    "from sagemaker.processing import ScriptProcessor\n",
    "from sagemaker.workflow.properties import PropertyFile\n",
    "from sagemaker.processing import ProcessingInput, ProcessingOutput\n",
    "from sagemaker.workflow.steps import ProcessingStep\n",
    "\n",
    "import import_ipynb\n",
    "import c2_training_step\n",
    "\n",
    "def create_post_processing_step(training_step):\n",
    "    \n",
    "    xgboost_container_uri = sagemaker.image_uris.retrieve(\"xgboost\", 'eu-west-1', \"1.7-1\")\n",
    "\n",
    "    evaluation_processor = ScriptProcessor(\n",
    "        image_uri=xgboost_container_uri,\n",
    "        command=[\"python3\"],\n",
    "        instance_type='ml.m5.large',\n",
    "        instance_count=1,\n",
    "        base_job_name=\"evaluate\",\n",
    "        role=sagemaker.get_execution_role(),\n",
    "    )\n",
    "    \n",
    "    # define inputs\n",
    "    model_processing_input = ProcessingInput(source=training_step.properties.ModelArtifacts.S3ModelArtifacts, destination=\"/opt/ml/processing/model\")\n",
    "    data_processing_input = ProcessingInput(source='s3://ktzouvan-trading-point-sagemaker-poc/datasets/marketing/', destination=\"/opt/ml/processing/test\")\n",
    "    \n",
    "    # define output\n",
    "    evaluation_processing_output = ProcessingOutput(output_name=\"evaluation\", source=\"/opt/ml/processing/evaluation\", destination=training_step.properties.ModelArtifacts.S3ModelArtifacts)\n",
    "\n",
    "    evaluation_report_file = PropertyFile(\n",
    "        name=\"EvaluationReport\",\n",
    "        output_name=\"evaluation\",\n",
    "        path=\"0_evaluation.json\"\n",
    "    )    \n",
    "    evaluate_step = ProcessingStep(\n",
    "        name=\"Evaluate_Model\",\n",
    "        processor=evaluation_processor,\n",
    "        inputs=[model_processing_input, data_processing_input],\n",
    "        outputs=[evaluation_processing_output],\n",
    "        code=\"d1_post_processing.py\",\n",
    "        job_arguments =['--model_path', '/opt/ml/processing/model','--model_file', 'model.tar.gz','--data_path', '/opt/ml/processing/test', '--output_path', '/opt/ml/processing/evaluation'],\n",
    "        property_files=[evaluation_report_file]\n",
    "    )\n",
    "\n",
    "    return evaluate_step"
   ]
  },
  {
   "cell_type": "code",
   "execution_count": null,
   "id": "b1271c3e-4e45-4631-ab17-e6d57d48041b",
   "metadata": {},
   "outputs": [],
   "source": []
  }
 ],
 "metadata": {
  "kernelspec": {
   "display_name": "Python 3 (ipykernel)",
   "language": "python",
   "name": "python3"
  },
  "language_info": {
   "codemirror_mode": {
    "name": "ipython",
    "version": 3
   },
   "file_extension": ".py",
   "mimetype": "text/x-python",
   "name": "python",
   "nbconvert_exporter": "python",
   "pygments_lexer": "ipython3",
   "version": "3.10.14"
  }
 },
 "nbformat": 4,
 "nbformat_minor": 5
}
