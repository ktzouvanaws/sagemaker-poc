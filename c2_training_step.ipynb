{
 "cells": [
  {
   "cell_type": "code",
   "execution_count": 4,
   "id": "67d71286-0101-457e-9aa4-d9fefe1d6c3c",
   "metadata": {},
   "outputs": [],
   "source": [
    "import sagemaker\n",
    "from sagemaker.session import Session\n",
    "from sagemaker.inputs import TrainingInput\n",
    "from sagemaker.workflow.steps import TrainingStep"
   ]
  },
  {
   "cell_type": "code",
   "execution_count": 5,
   "id": "39d5342c-dde4-4632-854c-9d2e497bf31d",
   "metadata": {},
   "outputs": [],
   "source": [
    "def create_training_step():\n",
    "    \n",
    "    # configure hyperparams\n",
    "    hyperparameters = {'objective':'binary:logistic', 'max_depth':5, 'eta':0.2, 'gamma':4, 'min_child_weight':6, 'subsample':0.7, 'num_round':50}\n",
    "    \n",
    "    # set an output path where the trained model will be saved\n",
    "    output_path = 's3://ktzouvan-trading-point-sagemaker-poc/models'\n",
    "\n",
    "    # get teh xgboos container for specific version\n",
    "    xgboost_container = sagemaker.image_uris.retrieve(\"xgboost\", 'eu-west-1', \"1.7-1\")\n",
    "\n",
    "    # create the estimator\n",
    "    estimator = sagemaker.estimator.Estimator(image_uri=xgboost_container, \n",
    "                                          hyperparameters=hyperparameters,\n",
    "                                          role=sagemaker.get_execution_role(),\n",
    "                                          instance_count=1, \n",
    "                                          instance_type='ml.m5.large', \n",
    "                                          volume_size=5, # 5 GB \n",
    "                                          output_path=output_path)\n",
    "\n",
    "    # define the data type and paths to the training and validation datasets\n",
    "    content_type = \"csv\"\n",
    "    train_input = TrainingInput(\"s3://ktzouvan-trading-point-sagemaker-poc/datasets/marketing/train.csv\", content_type=content_type)\n",
    "    validation_input = TrainingInput(\"s3://ktzouvan-trading-point-sagemaker-poc/datasets/marketing/validate.csv\", content_type=content_type)\n",
    "\n",
    "    training_step = TrainingStep(\n",
    "        name=\"training-step\",\n",
    "        estimator=estimator,\n",
    "        inputs={\n",
    "            \"train\": train_input,\n",
    "            \"validation\": validation_input\n",
    "        },\n",
    "    )\n",
    "\n",
    "    return training_step"
   ]
  },
  {
   "cell_type": "code",
   "execution_count": 6,
   "id": "986a6e94-b9d9-450d-9224-af8b16df46ad",
   "metadata": {},
   "outputs": [],
   "source": [
    "#training_step = create_training_step()\n",
    "#training_step"
   ]
  },
  {
   "cell_type": "code",
   "execution_count": null,
   "id": "347b4624-7e25-4f13-a453-0cd25910807a",
   "metadata": {},
   "outputs": [],
   "source": []
  }
 ],
 "metadata": {
  "kernelspec": {
   "display_name": "Python 3 (ipykernel)",
   "language": "python",
   "name": "python3"
  },
  "language_info": {
   "codemirror_mode": {
    "name": "ipython",
    "version": 3
   },
   "file_extension": ".py",
   "mimetype": "text/x-python",
   "name": "python",
   "nbconvert_exporter": "python",
   "pygments_lexer": "ipython3",
   "version": "3.10.14"
  }
 },
 "nbformat": 4,
 "nbformat_minor": 5
}
