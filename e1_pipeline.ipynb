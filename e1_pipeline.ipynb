{
 "cells": [
  {
   "cell_type": "code",
   "execution_count": null,
   "id": "4a939662-4785-4a95-ac31-2cf73a3ef7b0",
   "metadata": {},
   "outputs": [],
   "source": [
    "#!pip install import-ipynb -q"
   ]
  },
  {
   "cell_type": "code",
   "execution_count": null,
   "id": "50068225-e222-414d-9f6d-1183b500d77b",
   "metadata": {},
   "outputs": [],
   "source": [
    "import sagemaker\n",
    "from sagemaker.workflow.pipeline import Pipeline\n",
    "from sagemaker.workflow.pipeline_definition_config import PipelineDefinitionConfig"
   ]
  },
  {
   "cell_type": "code",
   "execution_count": null,
   "id": "9d66240c-1fec-4803-97bf-77f0c0df5d72",
   "metadata": {},
   "outputs": [],
   "source": [
    "import import_ipynb\n",
    "import b4_pre_processing_step\n",
    "import c2_training_xgboost_step"
   ]
  },
  {
   "cell_type": "code",
   "execution_count": null,
   "id": "47bd3f2f-668a-4ee9-9a6e-306a101b815e",
   "metadata": {},
   "outputs": [],
   "source": [
    "pre_processing_step = b4_pre_processing_step.create_pre_processing_step()\n",
    "\n",
    "training_step = c2_training_xgboost_step.create_training_step()\n",
    "training_step.add_depends_on([pre_processing_step])\n",
    "\n",
    "from sagemaker.workflow.step_collections import RegisterModel\n",
    "register_model_step = RegisterModel(\n",
    "     name=\"Register_Model\",\n",
    "     estimator= training_step.estimator,\n",
    "     model_data=training_step.properties.ModelArtifacts.S3ModelArtifacts,\n",
    "     content_types=[\"application/json\"],\n",
    "     response_types=[\"application/json\"],\n",
    "     #inference_instances=['ml.m5.large'],     \n",
    "     model_package_group_name='poc-model'\n",
    ")"
   ]
  },
  {
   "cell_type": "code",
   "execution_count": null,
   "id": "eed7b376-6e5a-419a-a230-6b60af98ebc7",
   "metadata": {},
   "outputs": [],
   "source": [
    "# create pipeline\n",
    "pipeline = Pipeline(\n",
    "    name='poc-pipeline',\n",
    "    steps=[pre_processing_step, training_step, register_model_step]\n",
    ")\n",
    "\n",
    "pipeline_definition = pipeline.definition()\n",
    "print(pipeline_definition)"
   ]
  },
  {
   "cell_type": "code",
   "execution_count": null,
   "id": "ffaa0387-1fa6-484e-8b02-c6043df3cfa9",
   "metadata": {},
   "outputs": [],
   "source": [
    "# upload to sagemaker\n",
    "pipeline.upsert(role_arn=sagemaker.get_execution_role())"
   ]
  },
  {
   "cell_type": "code",
   "execution_count": null,
   "id": "75cdf00c-39ba-4792-b77d-0cd47ede4ebf",
   "metadata": {},
   "outputs": [],
   "source": [
    "# pipeline.start()"
   ]
  },
  {
   "cell_type": "code",
   "execution_count": null,
   "id": "d9458e89-8871-4720-ada1-a6b560f7a53f",
   "metadata": {},
   "outputs": [],
   "source": []
  }
 ],
 "metadata": {
  "kernelspec": {
   "display_name": "Python 3 (ipykernel)",
   "language": "python",
   "name": "python3"
  },
  "language_info": {
   "codemirror_mode": {
    "name": "ipython",
    "version": 3
   },
   "file_extension": ".py",
   "mimetype": "text/x-python",
   "name": "python",
   "nbconvert_exporter": "python",
   "pygments_lexer": "ipython3",
   "version": "3.10.14"
  }
 },
 "nbformat": 4,
 "nbformat_minor": 5
}
