{
 "cells": [
  {
   "cell_type": "code",
   "execution_count": 1,
   "id": "4a939662-4785-4a95-ac31-2cf73a3ef7b0",
   "metadata": {},
   "outputs": [],
   "source": [
    "#!pip install import-ipynb -q"
   ]
  },
  {
   "cell_type": "code",
   "execution_count": 10,
   "id": "50068225-e222-414d-9f6d-1183b500d77b",
   "metadata": {},
   "outputs": [],
   "source": [
    "import sagemaker\n",
    "from sagemaker.workflow.pipeline import Pipeline\n",
    "from sagemaker.workflow.pipeline_definition_config import PipelineDefinitionConfig\n",
    "from sagemaker.model_metrics import MetricsSource, ModelMetrics \n",
    "from sagemaker.workflow.functions import Join"
   ]
  },
  {
   "cell_type": "code",
   "execution_count": 11,
   "id": "9d66240c-1fec-4803-97bf-77f0c0df5d72",
   "metadata": {},
   "outputs": [],
   "source": [
    "import import_ipynb\n",
    "import b4_pre_processing_step\n",
    "import c2_training_step\n",
    "import d2_post_processing_step"
   ]
  },
  {
   "cell_type": "code",
   "execution_count": 12,
   "id": "a9b0829d-2ab8-4d8d-ae44-5f7dcce338b6",
   "metadata": {},
   "outputs": [
    {
     "name": "stderr",
     "output_type": "stream",
     "text": [
      "INFO:sagemaker.image_uris:Defaulting to only available Python version: py3\n",
      "INFO:sagemaker.image_uris:Ignoring unnecessary instance type: None.\n",
      "INFO:sagemaker.image_uris:Ignoring unnecessary instance type: None.\n"
     ]
    }
   ],
   "source": [
    "pre_processing_step = b4_pre_processing_step.create_pre_processing_step()\n",
    "\n",
    "training_step = c2_training_step.create_training_step()\n",
    "training_step.add_depends_on([pre_processing_step])\n",
    "\n",
    "post_processing_step = d2_post_processing_step.create_post_processing_step(training_step)\n",
    "post_processing_step.add_depends_on([training_step])"
   ]
  },
  {
   "cell_type": "code",
   "execution_count": 13,
   "id": "e8d3674f-0347-46f8-b01a-20fd0565cd99",
   "metadata": {},
   "outputs": [
    {
     "name": "stderr",
     "output_type": "stream",
     "text": [
      "WARNING:sagemaker.workflow.utilities:Popping out 'ProcessingJobName' from the pipeline definition by default since it will be overridden at pipeline execution time. Please utilize the PipelineDefinitionConfig to persist this field in the pipeline definition if desired.\n"
     ]
    }
   ],
   "source": [
    "s3_evaluation_uri = Join(on='/', values=[post_processing_step.arguments[\"ProcessingOutputConfig\"][\"Outputs\"][0][\"S3Output\"][\"S3Uri\"],\"0_evaluation.json\"])\n",
    "evaluation_source = MetricsSource(s3_uri=s3_evaluation_uri,content_type=\"application/json\")\n",
    "model_metrics = ModelMetrics(model_statistics=evaluation_source)"
   ]
  },
  {
   "cell_type": "code",
   "execution_count": 14,
   "id": "47bd3f2f-668a-4ee9-9a6e-306a101b815e",
   "metadata": {},
   "outputs": [],
   "source": [
    "from sagemaker.workflow.step_collections import RegisterModel\n",
    "register_model_step = RegisterModel(\n",
    "     name=\"Register_Model\",\n",
    "     estimator= training_step.estimator,\n",
    "     model_data=training_step.properties.ModelArtifacts.S3ModelArtifacts,\n",
    "     content_types=[\"application/json\"],\n",
    "     response_types=[\"application/json\"],\n",
    "     #inference_instances=['ml.m5.large'],     \n",
    "     model_package_group_name='poc-model',\n",
    "     model_metrics=model_metrics,\n",
    "     depends_on=[training_step, post_processing_step]\n",
    ")"
   ]
  },
  {
   "cell_type": "code",
   "execution_count": 15,
   "id": "482a2f5e-7c3a-45b1-b54d-6a65b43e4709",
   "metadata": {},
   "outputs": [
    {
     "name": "stderr",
     "output_type": "stream",
     "text": [
      "WARNING:sagemaker.workflow.utilities:Popping out 'ProcessingJobName' from the pipeline definition by default since it will be overridden at pipeline execution time. Please utilize the PipelineDefinitionConfig to persist this field in the pipeline definition if desired.\n",
      "WARNING:sagemaker.workflow.utilities:Popping out 'TrainingJobName' from the pipeline definition by default since it will be overridden at pipeline execution time. Please utilize the PipelineDefinitionConfig to persist this field in the pipeline definition if desired.\n",
      "WARNING:sagemaker.workflow.utilities:Popping out 'ProcessingJobName' from the pipeline definition by default since it will be overridden at pipeline execution time. Please utilize the PipelineDefinitionConfig to persist this field in the pipeline definition if desired.\n",
      "WARNING:sagemaker.estimator:No finished training job found associated with this estimator. Please make sure this estimator is only used for building workflow config\n",
      "WARNING:sagemaker.workflow._utils:Popping out 'CertifyForMarketplace' from the pipeline definition since it will be overridden in pipeline execution time.\n",
      "WARNING:sagemaker.workflow.utilities:Popping out 'ModelPackageName' from the pipeline definition by default since it will be overridden at pipeline execution time. Please utilize the PipelineDefinitionConfig to persist this field in the pipeline definition if desired.\n"
     ]
    },
    {
     "name": "stdout",
     "output_type": "stream",
     "text": [
      "{\"Version\": \"2020-12-01\", \"Metadata\": {}, \"Parameters\": [], \"PipelineExperimentConfig\": {\"ExperimentName\": {\"Get\": \"Execution.PipelineName\"}, \"TrialName\": {\"Get\": \"Execution.PipelineExecutionId\"}}, \"Steps\": [{\"Name\": \"pre-processing\", \"Type\": \"Processing\", \"Arguments\": {\"ProcessingResources\": {\"ClusterConfig\": {\"InstanceType\": \"ml.m5.large\", \"InstanceCount\": 1, \"VolumeSizeInGB\": 30}}, \"AppSpecification\": {\"ImageUri\": \"141502667606.dkr.ecr.eu-west-1.amazonaws.com/sagemaker-scikit-learn:0.23-1-cpu-py3\", \"ContainerArguments\": [\"--input_path\", \"/opt/ml/processing/input\", \"--input_file\", \"bank-additional-full.csv\", \"--output_path\", \"/opt/ml/processing/output\"], \"ContainerEntrypoint\": [\"python3\", \"/opt/ml/processing/input/code/b1_pre_processing.py\"]}, \"RoleArn\": \"arn:aws:iam::864814979818:role/service-role/AmazonSageMaker-ExecutionRole-20240820T163044\", \"ProcessingInputs\": [{\"InputName\": \"input-1\", \"AppManaged\": false, \"S3Input\": {\"S3Uri\": \"s3://ktzouvan-trading-point-sagemaker-poc/datasets/marketing/bank-additional-full.csv\", \"LocalPath\": \"/opt/ml/processing/input\", \"S3DataType\": \"S3Prefix\", \"S3InputMode\": \"File\", \"S3DataDistributionType\": \"ShardedByS3Key\", \"S3CompressionType\": \"None\"}}, {\"InputName\": \"code\", \"AppManaged\": false, \"S3Input\": {\"S3Uri\": \"s3://sagemaker-eu-west-1-864814979818/pre-processing-cf4761cd5117d5cc0f2466cb6a5e87f4/input/code/b1_pre_processing.py\", \"LocalPath\": \"/opt/ml/processing/input/code\", \"S3DataType\": \"S3Prefix\", \"S3InputMode\": \"File\", \"S3DataDistributionType\": \"FullyReplicated\", \"S3CompressionType\": \"None\"}}], \"ProcessingOutputConfig\": {\"Outputs\": [{\"OutputName\": \"output-1\", \"AppManaged\": false, \"S3Output\": {\"S3Uri\": \"s3://ktzouvan-trading-point-sagemaker-poc/datasets/marketing/\", \"LocalPath\": \"/opt/ml/processing/output\", \"S3UploadMode\": \"EndOfJob\"}}]}}}, {\"Name\": \"training-step\", \"Type\": \"Training\", \"Arguments\": {\"AlgorithmSpecification\": {\"TrainingInputMode\": \"File\", \"TrainingImage\": \"141502667606.dkr.ecr.eu-west-1.amazonaws.com/sagemaker-xgboost:1.7-1\"}, \"OutputDataConfig\": {\"S3OutputPath\": \"s3://ktzouvan-trading-point-sagemaker-poc/models\"}, \"StoppingCondition\": {\"MaxRuntimeInSeconds\": 86400}, \"ResourceConfig\": {\"VolumeSizeInGB\": 5, \"InstanceCount\": 1, \"InstanceType\": \"ml.m5.large\"}, \"RoleArn\": \"arn:aws:iam::864814979818:role/service-role/AmazonSageMaker-ExecutionRole-20240820T163044\", \"InputDataConfig\": [{\"DataSource\": {\"S3DataSource\": {\"S3DataType\": \"S3Prefix\", \"S3Uri\": \"s3://ktzouvan-trading-point-sagemaker-poc/datasets/marketing/train.csv\", \"S3DataDistributionType\": \"FullyReplicated\"}}, \"ContentType\": \"csv\", \"ChannelName\": \"train\"}, {\"DataSource\": {\"S3DataSource\": {\"S3DataType\": \"S3Prefix\", \"S3Uri\": \"s3://ktzouvan-trading-point-sagemaker-poc/datasets/marketing/validate.csv\", \"S3DataDistributionType\": \"FullyReplicated\"}}, \"ContentType\": \"csv\", \"ChannelName\": \"validation\"}], \"HyperParameters\": {\"objective\": \"binary:logistic\", \"max_depth\": \"5\", \"eta\": \"0.2\", \"gamma\": \"4\", \"min_child_weight\": \"6\", \"subsample\": \"0.7\", \"num_round\": \"50\"}, \"DebugHookConfig\": {\"S3OutputPath\": \"s3://ktzouvan-trading-point-sagemaker-poc/models\", \"CollectionConfigurations\": []}, \"ProfilerConfig\": {\"S3OutputPath\": \"s3://ktzouvan-trading-point-sagemaker-poc/models\", \"DisableProfiler\": false}}, \"DependsOn\": [\"pre-processing\"]}, {\"Name\": \"Evaluate_Model\", \"Type\": \"Processing\", \"Arguments\": {\"ProcessingResources\": {\"ClusterConfig\": {\"InstanceType\": \"ml.m5.large\", \"InstanceCount\": 1, \"VolumeSizeInGB\": 30}}, \"AppSpecification\": {\"ImageUri\": \"141502667606.dkr.ecr.eu-west-1.amazonaws.com/sagemaker-xgboost:1.7-1\", \"ContainerArguments\": [\"--model_path\", \"/opt/ml/processing/model\", \"--model_file\", \"model.tar.gz\", \"--data_path\", \"/opt/ml/processing/test\", \"--output_path\", \"/opt/ml/processing/evaluation\"], \"ContainerEntrypoint\": [\"python3\", \"/opt/ml/processing/input/code/d1_post_processing.py\"]}, \"RoleArn\": \"arn:aws:iam::864814979818:role/service-role/AmazonSageMaker-ExecutionRole-20240820T163044\", \"ProcessingInputs\": [{\"InputName\": \"input-1\", \"AppManaged\": false, \"S3Input\": {\"S3Uri\": {\"Get\": \"Steps.training-step.ModelArtifacts.S3ModelArtifacts\"}, \"LocalPath\": \"/opt/ml/processing/model\", \"S3DataType\": \"S3Prefix\", \"S3InputMode\": \"File\", \"S3DataDistributionType\": \"FullyReplicated\", \"S3CompressionType\": \"None\"}}, {\"InputName\": \"input-2\", \"AppManaged\": false, \"S3Input\": {\"S3Uri\": \"s3://ktzouvan-trading-point-sagemaker-poc/datasets/marketing/\", \"LocalPath\": \"/opt/ml/processing/test\", \"S3DataType\": \"S3Prefix\", \"S3InputMode\": \"File\", \"S3DataDistributionType\": \"FullyReplicated\", \"S3CompressionType\": \"None\"}}, {\"InputName\": \"code\", \"AppManaged\": false, \"S3Input\": {\"S3Uri\": \"s3://sagemaker-eu-west-1-864814979818/Evaluate_Model-ef8448cb0bf95db22acfe4f205c9c4eb/input/code/d1_post_processing.py\", \"LocalPath\": \"/opt/ml/processing/input/code\", \"S3DataType\": \"S3Prefix\", \"S3InputMode\": \"File\", \"S3DataDistributionType\": \"FullyReplicated\", \"S3CompressionType\": \"None\"}}], \"ProcessingOutputConfig\": {\"Outputs\": [{\"OutputName\": \"evaluation\", \"AppManaged\": false, \"S3Output\": {\"S3Uri\": {\"Get\": \"Steps.training-step.ModelArtifacts.S3ModelArtifacts\"}, \"LocalPath\": \"/opt/ml/processing/evaluation\", \"S3UploadMode\": \"EndOfJob\"}}]}}, \"DependsOn\": [\"training-step\"], \"PropertyFiles\": [{\"PropertyFileName\": \"EvaluationReport\", \"OutputName\": \"evaluation\", \"FilePath\": \"0_evaluation.json\"}]}, {\"Name\": \"Register_Model-RegisterModel\", \"Type\": \"RegisterModel\", \"Arguments\": {\"ModelPackageGroupName\": \"poc-model\", \"ModelMetrics\": {\"ModelQuality\": {\"Statistics\": {\"ContentType\": \"application/json\", \"S3Uri\": {\"Std:Join\": {\"On\": \"/\", \"Values\": [{\"Get\": \"Steps.training-step.ModelArtifacts.S3ModelArtifacts\"}, \"0_evaluation.json\"]}}}}, \"Bias\": {}, \"Explainability\": {}}, \"InferenceSpecification\": {\"Containers\": [{\"Image\": \"141502667606.dkr.ecr.eu-west-1.amazonaws.com/sagemaker-xgboost:1.7-1\", \"ModelDataUrl\": {\"Get\": \"Steps.training-step.ModelArtifacts.S3ModelArtifacts\"}}], \"SupportedContentTypes\": [\"application/json\"], \"SupportedResponseMIMETypes\": [\"application/json\"]}, \"ModelApprovalStatus\": \"PendingManualApproval\", \"SkipModelValidation\": \"None\"}, \"DependsOn\": [\"training-step\", \"Evaluate_Model\"]}]}\n"
     ]
    }
   ],
   "source": [
    "# create pipeline\n",
    "pipeline = Pipeline(\n",
    "    name='poc-pipeline',\n",
    "    steps=[pre_processing_step, training_step, post_processing_step, register_model_step]\n",
    ")\n",
    "pipeline_definition = pipeline.definition()\n",
    "print(pipeline_definition)"
   ]
  },
  {
   "cell_type": "code",
   "execution_count": 16,
   "id": "ffaa0387-1fa6-484e-8b02-c6043df3cfa9",
   "metadata": {},
   "outputs": [
    {
     "name": "stderr",
     "output_type": "stream",
     "text": [
      "WARNING:sagemaker.workflow.utilities:Popping out 'ProcessingJobName' from the pipeline definition by default since it will be overridden at pipeline execution time. Please utilize the PipelineDefinitionConfig to persist this field in the pipeline definition if desired.\n",
      "WARNING:sagemaker.workflow.utilities:Popping out 'TrainingJobName' from the pipeline definition by default since it will be overridden at pipeline execution time. Please utilize the PipelineDefinitionConfig to persist this field in the pipeline definition if desired.\n",
      "WARNING:sagemaker.workflow.utilities:Popping out 'ProcessingJobName' from the pipeline definition by default since it will be overridden at pipeline execution time. Please utilize the PipelineDefinitionConfig to persist this field in the pipeline definition if desired.\n",
      "WARNING:sagemaker.estimator:No finished training job found associated with this estimator. Please make sure this estimator is only used for building workflow config\n",
      "WARNING:sagemaker.workflow._utils:Popping out 'CertifyForMarketplace' from the pipeline definition since it will be overridden in pipeline execution time.\n",
      "WARNING:sagemaker.workflow.utilities:Popping out 'ModelPackageName' from the pipeline definition by default since it will be overridden at pipeline execution time. Please utilize the PipelineDefinitionConfig to persist this field in the pipeline definition if desired.\n",
      "WARNING:sagemaker.workflow.utilities:Popping out 'ProcessingJobName' from the pipeline definition by default since it will be overridden at pipeline execution time. Please utilize the PipelineDefinitionConfig to persist this field in the pipeline definition if desired.\n",
      "WARNING:sagemaker.workflow.utilities:Popping out 'TrainingJobName' from the pipeline definition by default since it will be overridden at pipeline execution time. Please utilize the PipelineDefinitionConfig to persist this field in the pipeline definition if desired.\n",
      "WARNING:sagemaker.workflow.utilities:Popping out 'ProcessingJobName' from the pipeline definition by default since it will be overridden at pipeline execution time. Please utilize the PipelineDefinitionConfig to persist this field in the pipeline definition if desired.\n",
      "WARNING:sagemaker.estimator:No finished training job found associated with this estimator. Please make sure this estimator is only used for building workflow config\n",
      "WARNING:sagemaker.workflow._utils:Popping out 'CertifyForMarketplace' from the pipeline definition since it will be overridden in pipeline execution time.\n",
      "WARNING:sagemaker.workflow.utilities:Popping out 'ModelPackageName' from the pipeline definition by default since it will be overridden at pipeline execution time. Please utilize the PipelineDefinitionConfig to persist this field in the pipeline definition if desired.\n"
     ]
    },
    {
     "data": {
      "text/plain": [
       "{'PipelineArn': 'arn:aws:sagemaker:eu-west-1:864814979818:pipeline/poc-pipeline',\n",
       " 'ResponseMetadata': {'RequestId': '0258a566-95a3-46ad-ad27-d8145cc23454',\n",
       "  'HTTPStatusCode': 200,\n",
       "  'HTTPHeaders': {'x-amzn-requestid': '0258a566-95a3-46ad-ad27-d8145cc23454',\n",
       "   'content-type': 'application/x-amz-json-1.1',\n",
       "   'content-length': '80',\n",
       "   'date': 'Tue, 03 Sep 2024 13:05:58 GMT'},\n",
       "  'RetryAttempts': 0}}"
      ]
     },
     "execution_count": 16,
     "metadata": {},
     "output_type": "execute_result"
    }
   ],
   "source": [
    "# upload to sagemaker\n",
    "pipeline.upsert(role_arn=sagemaker.get_execution_role())"
   ]
  },
  {
   "cell_type": "code",
   "execution_count": 9,
   "id": "75cdf00c-39ba-4792-b77d-0cd47ede4ebf",
   "metadata": {},
   "outputs": [],
   "source": [
    "# pipeline.start()"
   ]
  },
  {
   "cell_type": "code",
   "execution_count": null,
   "id": "d9458e89-8871-4720-ada1-a6b560f7a53f",
   "metadata": {},
   "outputs": [],
   "source": []
  }
 ],
 "metadata": {
  "kernelspec": {
   "display_name": "Python 3 (ipykernel)",
   "language": "python",
   "name": "python3"
  },
  "language_info": {
   "codemirror_mode": {
    "name": "ipython",
    "version": 3
   },
   "file_extension": ".py",
   "mimetype": "text/x-python",
   "name": "python",
   "nbconvert_exporter": "python",
   "pygments_lexer": "ipython3",
   "version": "3.10.14"
  }
 },
 "nbformat": 4,
 "nbformat_minor": 5
}
