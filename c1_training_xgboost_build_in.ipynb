{
 "cells": [
  {
   "cell_type": "code",
   "execution_count": 11,
   "id": "561bce50-2a28-414e-b39e-051051a6d57f",
   "metadata": {},
   "outputs": [],
   "source": [
    "# https://docs.aws.amazon.com/sagemaker/latest/dg/xgboost.html"
   ]
  },
  {
   "cell_type": "code",
   "execution_count": 12,
   "id": "545ce54d-7378-4ea4-ae81-4f6b42f60af9",
   "metadata": {},
   "outputs": [],
   "source": [
    "import sagemaker\n",
    "from sagemaker.session import Session\n",
    "from sagemaker.inputs import TrainingInput"
   ]
  },
  {
   "cell_type": "code",
   "execution_count": 13,
   "id": "92912167-628b-44a7-b4b5-87f16ec6d3b1",
   "metadata": {},
   "outputs": [],
   "source": [
    "# configure hyperparams\n",
    "hyperparameters = {'objective':'binary:logistic', 'max_depth':5, 'eta':0.2, 'gamma':4, 'min_child_weight':6, 'subsample':0.7, 'num_round':50}\n",
    "\n",
    "# set an output path where the trained model will be saved\n",
    "output_path = 's3://ktzouvan-trading-point-sagemaker-poc/models'"
   ]
  },
  {
   "cell_type": "code",
   "execution_count": 14,
   "id": "b985cd32-9853-4fa4-9f4e-432fd42d207c",
   "metadata": {},
   "outputs": [
    {
     "name": "stderr",
     "output_type": "stream",
     "text": [
      "INFO:sagemaker.image_uris:Ignoring unnecessary instance type: None.\n"
     ]
    }
   ],
   "source": [
    "# get teh xgboos container for specific version\n",
    "xgboost_container = sagemaker.image_uris.retrieve(\"xgboost\", 'eu-west-1', \"1.7-1\")\n",
    "\n",
    "# create the estimator\n",
    "estimator = sagemaker.estimator.Estimator(image_uri=xgboost_container, \n",
    "                                          hyperparameters=hyperparameters,\n",
    "                                          role=sagemaker.get_execution_role(),\n",
    "                                          instance_count=1, \n",
    "                                          instance_type='ml.m5.large', \n",
    "                                          volume_size=5, # 5 GB \n",
    "                                          output_path=output_path)\n"
   ]
  },
  {
   "cell_type": "code",
   "execution_count": 15,
   "id": "f5baaf3c-5f59-4805-9214-283f8911fd05",
   "metadata": {},
   "outputs": [
    {
     "name": "stderr",
     "output_type": "stream",
     "text": [
      "INFO:sagemaker:Creating training-job with name: sagemaker-xgboost-2024-08-31-19-09-16-140\n"
     ]
    },
    {
     "name": "stdout",
     "output_type": "stream",
     "text": [
      "2024-08-31 19:09:16 Starting - Starting the training job...\n",
      "2024-08-31 19:09:32 Starting - Preparing the instances for training...\n",
      "2024-08-31 19:09:54 Downloading - Downloading input data...\n",
      "2024-08-31 19:10:34 Downloading - Downloading the training image......\n",
      "2024-08-31 19:11:45 Training - Training image download completed. Training in progress..\u001b[34m[2024-08-31 19:11:49.951 ip-10-0-116-113.eu-west-1.compute.internal:8 INFO utils.py:28] RULE_JOB_STOP_SIGNAL_FILENAME: None\u001b[0m\n",
      "\u001b[34m[2024-08-31 19:11:49.973 ip-10-0-116-113.eu-west-1.compute.internal:8 INFO profiler_config_parser.py:111] User has disabled profiler.\u001b[0m\n",
      "\u001b[34m[2024-08-31:19:11:50:INFO] Imported framework sagemaker_xgboost_container.training\u001b[0m\n",
      "\u001b[34m[2024-08-31:19:11:50:INFO] Failed to parse hyperparameter objective value binary:logistic to Json.\u001b[0m\n",
      "\u001b[34mReturning the value itself\u001b[0m\n",
      "\u001b[34m[2024-08-31:19:11:50:INFO] No GPUs detected (normal if no gpus installed)\u001b[0m\n",
      "\u001b[34m[2024-08-31:19:11:50:INFO] Running XGBoost Sagemaker in algorithm mode\u001b[0m\n",
      "\u001b[34m[2024-08-31:19:11:50:INFO] Determined 0 GPU(s) available on the instance.\u001b[0m\n",
      "\u001b[34m[2024-08-31:19:11:50:INFO] Determined delimiter of CSV input is ','\u001b[0m\n",
      "\u001b[34m[2024-08-31:19:11:50:INFO] Determined delimiter of CSV input is ','\u001b[0m\n",
      "\u001b[34m[2024-08-31:19:11:50:INFO] File path /opt/ml/input/data/train of input files\u001b[0m\n",
      "\u001b[34m[2024-08-31:19:11:50:INFO] Making smlinks from folder /opt/ml/input/data/train to folder /tmp/sagemaker_xgboost_input_data\u001b[0m\n",
      "\u001b[34m[2024-08-31:19:11:50:INFO] creating symlink between Path /opt/ml/input/data/train/train.csv and destination /tmp/sagemaker_xgboost_input_data/train.csv915654233209885468\u001b[0m\n",
      "\u001b[34m[2024-08-31:19:11:50:INFO] files path: /tmp/sagemaker_xgboost_input_data\u001b[0m\n",
      "\u001b[34m[2024-08-31:19:11:50:INFO] Determined delimiter of CSV input is ','\u001b[0m\n",
      "\u001b[34m[2024-08-31:19:11:50:INFO] File path /opt/ml/input/data/validation of input files\u001b[0m\n",
      "\u001b[34m[2024-08-31:19:11:50:INFO] Making smlinks from folder /opt/ml/input/data/validation to folder /tmp/sagemaker_xgboost_input_data\u001b[0m\n",
      "\u001b[34m[2024-08-31:19:11:50:INFO] creating symlink between Path /opt/ml/input/data/validation/validate.csv and destination /tmp/sagemaker_xgboost_input_data/validate.csv3801602241335080674\u001b[0m\n",
      "\u001b[34m[2024-08-31:19:11:50:INFO] files path: /tmp/sagemaker_xgboost_input_data\u001b[0m\n",
      "\u001b[34m[2024-08-31:19:11:50:INFO] Determined delimiter of CSV input is ','\u001b[0m\n",
      "\u001b[34m[2024-08-31:19:11:50:INFO] Single node training.\u001b[0m\n",
      "\u001b[34m[2024-08-31:19:11:50:INFO] Train matrix has 28831 rows and 6 columns\u001b[0m\n",
      "\u001b[34m[2024-08-31:19:11:50:INFO] Validation matrix has 8238 rows\u001b[0m\n",
      "\u001b[34m[2024-08-31 19:11:50.434 ip-10-0-116-113.eu-west-1.compute.internal:8 INFO json_config.py:92] Creating hook from json_config at /opt/ml/input/config/debughookconfig.json.\u001b[0m\n",
      "\u001b[34m[2024-08-31 19:11:50.435 ip-10-0-116-113.eu-west-1.compute.internal:8 INFO hook.py:206] tensorboard_dir has not been set for the hook. SMDebug will not be exporting tensorboard summaries.\u001b[0m\n",
      "\u001b[34m[2024-08-31 19:11:50.436 ip-10-0-116-113.eu-west-1.compute.internal:8 INFO hook.py:259] Saving to /opt/ml/output/tensors\u001b[0m\n",
      "\u001b[34m[2024-08-31 19:11:50.436 ip-10-0-116-113.eu-west-1.compute.internal:8 INFO state_store.py:77] The checkpoint config file /opt/ml/input/config/checkpointconfig.json does not exist.\u001b[0m\n",
      "\u001b[34m[2024-08-31:19:11:50:INFO] Debug hook created from config\u001b[0m\n",
      "\u001b[34m[2024-08-31 19:11:50.467 ip-10-0-116-113.eu-west-1.compute.internal:8 INFO hook.py:427] Monitoring the collections: metrics\u001b[0m\n",
      "\u001b[34m[2024-08-31 19:11:50.469 ip-10-0-116-113.eu-west-1.compute.internal:8 INFO hook.py:491] Hook is writing from the hook with pid: 8\u001b[0m\n",
      "\u001b[34m[0]#011train-logloss:0.56290#011validation-logloss:0.56262\u001b[0m\n",
      "\u001b[34m[1]#011train-logloss:0.47563#011validation-logloss:0.47532\u001b[0m\n",
      "\u001b[34m[2]#011train-logloss:0.41411#011validation-logloss:0.41409\u001b[0m\n",
      "\u001b[34m[3]#011train-logloss:0.36914#011validation-logloss:0.36933\u001b[0m\n",
      "\u001b[34m[4]#011train-logloss:0.33594#011validation-logloss:0.33643\u001b[0m\n",
      "\u001b[34m[5]#011train-logloss:0.31092#011validation-logloss:0.31156\u001b[0m\n",
      "\u001b[34m[6]#011train-logloss:0.29175#011validation-logloss:0.29286\u001b[0m\n",
      "\u001b[34m[7]#011train-logloss:0.27672#011validation-logloss:0.27806\u001b[0m\n",
      "\u001b[34m[8]#011train-logloss:0.26536#011validation-logloss:0.26705\u001b[0m\n",
      "\u001b[34m[9]#011train-logloss:0.25670#011validation-logloss:0.25867\u001b[0m\n",
      "\u001b[34m[10]#011train-logloss:0.24987#011validation-logloss:0.25213\u001b[0m\n",
      "\u001b[34m[11]#011train-logloss:0.24462#011validation-logloss:0.24703\u001b[0m\n",
      "\u001b[34m[12]#011train-logloss:0.24048#011validation-logloss:0.24320\u001b[0m\n",
      "\u001b[34m[13]#011train-logloss:0.23721#011validation-logloss:0.24020\u001b[0m\n",
      "\u001b[34m[14]#011train-logloss:0.23481#011validation-logloss:0.23790\u001b[0m\n",
      "\u001b[34m[15]#011train-logloss:0.23295#011validation-logloss:0.23629\u001b[0m\n",
      "\u001b[34m[16]#011train-logloss:0.23114#011validation-logloss:0.23461\u001b[0m\n",
      "\u001b[34m[17]#011train-logloss:0.22995#011validation-logloss:0.23357\u001b[0m\n",
      "\u001b[34m[18]#011train-logloss:0.22887#011validation-logloss:0.23288\u001b[0m\n",
      "\u001b[34m[19]#011train-logloss:0.22812#011validation-logloss:0.23235\u001b[0m\n",
      "\u001b[34m[20]#011train-logloss:0.22734#011validation-logloss:0.23181\u001b[0m\n",
      "\u001b[34m[21]#011train-logloss:0.22679#011validation-logloss:0.23141\u001b[0m\n",
      "\u001b[34m[22]#011train-logloss:0.22639#011validation-logloss:0.23103\u001b[0m\n",
      "\u001b[34m[23]#011train-logloss:0.22599#011validation-logloss:0.23080\u001b[0m\n",
      "\u001b[34m[24]#011train-logloss:0.22563#011validation-logloss:0.23046\u001b[0m\n",
      "\u001b[34m[25]#011train-logloss:0.22531#011validation-logloss:0.23020\u001b[0m\n",
      "\u001b[34m[26]#011train-logloss:0.22500#011validation-logloss:0.23026\u001b[0m\n",
      "\u001b[34m[27]#011train-logloss:0.22477#011validation-logloss:0.23025\u001b[0m\n",
      "\u001b[34m[28]#011train-logloss:0.22459#011validation-logloss:0.23007\u001b[0m\n",
      "\u001b[34m[29]#011train-logloss:0.22437#011validation-logloss:0.22991\u001b[0m\n",
      "\u001b[34m[30]#011train-logloss:0.22430#011validation-logloss:0.22990\u001b[0m\n",
      "\u001b[34m[31]#011train-logloss:0.22417#011validation-logloss:0.22993\u001b[0m\n",
      "\u001b[34m[32]#011train-logloss:0.22411#011validation-logloss:0.22992\u001b[0m\n",
      "\u001b[34m[33]#011train-logloss:0.22400#011validation-logloss:0.22992\u001b[0m\n",
      "\u001b[34m[34]#011train-logloss:0.22400#011validation-logloss:0.22992\u001b[0m\n",
      "\u001b[34m[35]#011train-logloss:0.22373#011validation-logloss:0.22992\u001b[0m\n",
      "\u001b[34m[36]#011train-logloss:0.22348#011validation-logloss:0.23007\u001b[0m\n",
      "\u001b[34m[37]#011train-logloss:0.22337#011validation-logloss:0.23002\u001b[0m\n",
      "\u001b[34m[38]#011train-logloss:0.22330#011validation-logloss:0.23000\u001b[0m\n",
      "\u001b[34m[39]#011train-logloss:0.22322#011validation-logloss:0.22984\u001b[0m\n",
      "\u001b[34m[40]#011train-logloss:0.22317#011validation-logloss:0.22988\u001b[0m\n",
      "\u001b[34m[41]#011train-logloss:0.22317#011validation-logloss:0.22988\u001b[0m\n",
      "\u001b[34m[42]#011train-logloss:0.22303#011validation-logloss:0.23001\u001b[0m\n",
      "\u001b[34m[43]#011train-logloss:0.22300#011validation-logloss:0.22999\u001b[0m\n",
      "\u001b[34m[44]#011train-logloss:0.22293#011validation-logloss:0.22992\u001b[0m\n",
      "\u001b[34m[45]#011train-logloss:0.22287#011validation-logloss:0.22992\u001b[0m\n",
      "\u001b[34m[46]#011train-logloss:0.22274#011validation-logloss:0.22991\u001b[0m\n",
      "\u001b[34m[47]#011train-logloss:0.22269#011validation-logloss:0.22994\u001b[0m\n",
      "\u001b[34m[48]#011train-logloss:0.22253#011validation-logloss:0.22993\u001b[0m\n",
      "\u001b[34m[49]#011train-logloss:0.22237#011validation-logloss:0.22994\u001b[0m\n",
      "\n",
      "2024-08-31 19:12:09 Uploading - Uploading generated training model\n",
      "2024-08-31 19:12:09 Completed - Training job completed\n",
      "Training seconds: 135\n",
      "Billable seconds: 135\n"
     ]
    }
   ],
   "source": [
    "# define the data type and paths to the training and validation datasets\n",
    "content_type = \"csv\"\n",
    "train_input = TrainingInput(\"s3://ktzouvan-trading-point-sagemaker-poc/datasets/marketing/train.csv\", content_type=content_type)\n",
    "validation_input = TrainingInput(\"s3://ktzouvan-trading-point-sagemaker-poc/datasets/marketing/validate.csv\", content_type=content_type)\n",
    "\n",
    "# execute the XGBoost training job\n",
    "estimator.fit({'train': train_input, 'validation': validation_input})"
   ]
  },
  {
   "cell_type": "code",
   "execution_count": null,
   "id": "252bb9f1-6868-4681-8407-cf660f2b180c",
   "metadata": {},
   "outputs": [],
   "source": [
    "# Explain usage of training thorugh a script too \n",
    "# https://sagemaker.readthedocs.io/en/stable/frameworks/xgboost/using_xgboost.html"
   ]
  }
 ],
 "metadata": {
  "kernelspec": {
   "display_name": "Python 3 (ipykernel)",
   "language": "python",
   "name": "python3"
  },
  "language_info": {
   "codemirror_mode": {
    "name": "ipython",
    "version": 3
   },
   "file_extension": ".py",
   "mimetype": "text/x-python",
   "name": "python",
   "nbconvert_exporter": "python",
   "pygments_lexer": "ipython3",
   "version": "3.10.14"
  }
 },
 "nbformat": 4,
 "nbformat_minor": 5
}
