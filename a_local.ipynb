{
 "cells": [
  {
   "cell_type": "markdown",
   "id": "dbe95e37-cba3-4b0d-b527-90158d576fd3",
   "metadata": {},
   "source": [
    "### Libraries & Parameters"
   ]
  },
  {
   "cell_type": "code",
   "execution_count": 12,
   "id": "acb1cdc2-69f7-4eb9-9219-e43c8bff4eb1",
   "metadata": {},
   "outputs": [],
   "source": [
    "import pandas\n",
    "import numpy\n",
    "import os"
   ]
  },
  {
   "cell_type": "code",
   "execution_count": 13,
   "id": "8218c831-da93-4f3b-9f53-01465266188e",
   "metadata": {},
   "outputs": [],
   "source": [
    "dataset_path = '0_bank_additional_full.csv'\n",
    "outputpath = 'splits'"
   ]
  },
  {
   "cell_type": "markdown",
   "id": "08b54d3c-1024-4e8f-a8e5-5ccf59c7c032",
   "metadata": {},
   "source": [
    "### Load data (local storage)"
   ]
  },
  {
   "cell_type": "code",
   "execution_count": 14,
   "id": "5896cf2e-27f8-4dc3-b001-329131cda986",
   "metadata": {},
   "outputs": [],
   "source": [
    "df = pandas.read_csv(dataset_path, sep=';')\n",
    "pandas.set_option('display.max_columns', 60)\n",
    "pandas.set_option('display.max_rows', 20)"
   ]
  },
  {
   "cell_type": "markdown",
   "id": "9b383f66-4db1-41bc-8095-4a6486ef29c7",
   "metadata": {},
   "source": [
    "### Pre-process"
   ]
  },
  {
   "cell_type": "code",
   "execution_count": 15,
   "id": "0843cc08-4539-44b8-81c0-7d85d0c24906",
   "metadata": {
    "editable": true,
    "slideshow": {
     "slide_type": ""
    },
    "tags": []
   },
   "outputs": [
    {
     "name": "stderr",
     "output_type": "stream",
     "text": [
      "/opt/conda/lib/python3.10/site-packages/numpy/core/fromnumeric.py:59: FutureWarning: 'DataFrame.swapaxes' is deprecated and will be removed in a future version. Please use 'DataFrame.transpose' instead.\n",
      "  return bound(*args, **kwds)\n"
     ]
    }
   ],
   "source": [
    "# Replace values\n",
    "df = df.replace(regex=r'\\.', value='_')\n",
    "df = df.replace(regex=r'\\_$', value='')\n",
    "\n",
    "# Add two new features\n",
    "df[\"no_previous_contact\"] = (df[\"pdays\"] == 999).astype(int)\n",
    "df[\"not_working\"] = df[\"job\"].isin([\"student\", \"retired\", \"unemployed\"]).astype(int)\n",
    "\n",
    "# Drop not need columns\n",
    "df = df.drop(['duration', 'emp.var.rate', 'cons.price.idx', 'cons.conf.idx', 'euribor3m', 'nr.employed', 'day_of_week', 'month'], axis=1)\n",
    "\n",
    "# Encode categorical features\n",
    "df = pandas.get_dummies(df)\n",
    "\n",
    "# Train, test, validation split\n",
    "suffled_df = df.sample(frac=1, random_state=42)\n",
    "train_data_split, validation_data_split, test_data_split = numpy.split(suffled_df, [int(0.7 * len(df)), int(0.9 * len(df))])\n",
    "\n",
    "# clean up categorical encoding of Y\n",
    "train_data_df = pandas.concat([train_data_split['y_yes'], train_data_split.drop(['y_yes','y_no'], axis=1)], axis=1)\n",
    "validation_data_df = pandas.concat([validation_data_split['y_yes'], validation_data_split.drop(['y_yes','y_no'], axis=1)], axis=1)\n",
    "test_data_df = pandas.concat([test_data_split['y_yes'], test_data_split.drop(['y_yes','y_no'], axis=1)], axis=1)"
   ]
  },
  {
   "cell_type": "markdown",
   "id": "bc81970f-186f-475f-93ec-06e34292df90",
   "metadata": {},
   "source": [
    "### Write splits (local storage)"
   ]
  },
  {
   "cell_type": "code",
   "execution_count": 16,
   "id": "c72bbc2e-507e-43ca-a1c0-3385124c116f",
   "metadata": {
    "editable": true,
    "slideshow": {
     "slide_type": ""
    },
    "tags": []
   },
   "outputs": [],
   "source": [
    "os.makedirs(outputpath, exist_ok=True)\n",
    "\n",
    "train_data_df.to_csv(os.path.join(outputpath, 'train.csv'), index=False, header=False)\n",
    "validation_data_df.to_csv(os.path.join(outputpath, 'validate.csv'), index=False, header=False)\n",
    "\n",
    "test_data_split['y_yes'].to_csv(os.path.join(outputpath, 'test_y.csv'), index=False, header=False)\n",
    "test_data_split.drop(['y_yes','y_no'], axis=1).to_csv(os.path.join(outputpath, 'test_x.csv'), index=False, header=False)"
   ]
  },
  {
   "cell_type": "markdown",
   "id": "30408ea1-d3d3-44d2-a481-302ba27d6aa2",
   "metadata": {
    "editable": true,
    "slideshow": {
     "slide_type": ""
    },
    "tags": []
   },
   "source": [
    "### Train"
   ]
  },
  {
   "cell_type": "code",
   "execution_count": 6,
   "id": "4ad307b8-78bf-4569-9fda-c32014c1b7ab",
   "metadata": {},
   "outputs": [],
   "source": [
    "import xgboost"
   ]
  },
  {
   "cell_type": "code",
   "execution_count": 17,
   "id": "3a2a7a04-773c-455a-a6e3-180b2f681213",
   "metadata": {},
   "outputs": [
    {
     "name": "stdout",
     "output_type": "stream",
     "text": [
      "[0]\ttrain-logloss:0.57520\tvalidation-logloss:0.57459\n",
      "[1]\ttrain-logloss:0.49645\tvalidation-logloss:0.49524\n",
      "[2]\ttrain-logloss:0.44194\tvalidation-logloss:0.44038\n",
      "[3]\ttrain-logloss:0.40333\tvalidation-logloss:0.40130\n",
      "[4]\ttrain-logloss:0.37553\tvalidation-logloss:0.37327\n",
      "[5]\ttrain-logloss:0.35483\tvalidation-logloss:0.35228\n",
      "[6]\ttrain-logloss:0.34002\tvalidation-logloss:0.33718\n",
      "[7]\ttrain-logloss:0.32900\tvalidation-logloss:0.32584\n",
      "[8]\ttrain-logloss:0.32111\tvalidation-logloss:0.31779\n",
      "[9]\ttrain-logloss:0.31559\tvalidation-logloss:0.31209\n",
      "[10]\ttrain-logloss:0.31144\tvalidation-logloss:0.30769\n",
      "[11]\ttrain-logloss:0.30823\tvalidation-logloss:0.30435\n",
      "[12]\ttrain-logloss:0.30597\tvalidation-logloss:0.30187\n",
      "[13]\ttrain-logloss:0.30436\tvalidation-logloss:0.30026\n",
      "[14]\ttrain-logloss:0.30306\tvalidation-logloss:0.29915\n",
      "[15]\ttrain-logloss:0.30198\tvalidation-logloss:0.29825\n",
      "[16]\ttrain-logloss:0.30125\tvalidation-logloss:0.29754\n",
      "[17]\ttrain-logloss:0.30043\tvalidation-logloss:0.29706\n",
      "[18]\ttrain-logloss:0.30000\tvalidation-logloss:0.29658\n",
      "[19]\ttrain-logloss:0.29955\tvalidation-logloss:0.29630\n",
      "[20]\ttrain-logloss:0.29916\tvalidation-logloss:0.29594\n",
      "[21]\ttrain-logloss:0.29880\tvalidation-logloss:0.29568\n",
      "[22]\ttrain-logloss:0.29861\tvalidation-logloss:0.29557\n",
      "[23]\ttrain-logloss:0.29836\tvalidation-logloss:0.29545\n",
      "[24]\ttrain-logloss:0.29811\tvalidation-logloss:0.29532\n",
      "[25]\ttrain-logloss:0.29776\tvalidation-logloss:0.29517\n",
      "[26]\ttrain-logloss:0.29761\tvalidation-logloss:0.29517\n",
      "[27]\ttrain-logloss:0.29733\tvalidation-logloss:0.29504\n",
      "[28]\ttrain-logloss:0.29725\tvalidation-logloss:0.29504\n",
      "[29]\ttrain-logloss:0.29710\tvalidation-logloss:0.29504\n",
      "[30]\ttrain-logloss:0.29697\tvalidation-logloss:0.29499\n",
      "[31]\ttrain-logloss:0.29697\tvalidation-logloss:0.29499\n",
      "[32]\ttrain-logloss:0.29672\tvalidation-logloss:0.29509\n",
      "[33]\ttrain-logloss:0.29658\tvalidation-logloss:0.29500\n",
      "[34]\ttrain-logloss:0.29653\tvalidation-logloss:0.29506\n",
      "[35]\ttrain-logloss:0.29649\tvalidation-logloss:0.29508\n"
     ]
    }
   ],
   "source": [
    "# Train Matrix\n",
    "y_train = train_data_df.iloc[:, 0].to_numpy()\n",
    "\n",
    "train_data_df.drop(train_data_df.columns[0], axis=1, inplace=True)\n",
    "x_train = train_data_df.to_numpy()\n",
    "\n",
    "train_dmatrix = xgboost.DMatrix(x_train, label=y_train)\n",
    "\n",
    "# Validation Matrix\n",
    "y_validation = validation_data_df.iloc[:, 0].to_numpy()\n",
    "\n",
    "validation_data_df.drop(validation_data_df.columns[0], axis=1, inplace=True)\n",
    "x_validation = validation_data_df.to_numpy()\n",
    "\n",
    "validation_dmatrix = xgboost.DMatrix(x_validation, label=y_validation)\n",
    "\n",
    "# parameters\n",
    "num_round = 50\n",
    "evaluation_results = {}  # Store accuracy result\n",
    "\n",
    "# hyper paramerers\n",
    "hyperparameters = {'objective':'binary:logistic', 'max_depth':5, 'eta':0.2, 'gamma':4, 'min_child_weight':6, 'subsample':0.7}\n",
    "\n",
    "# Execute training\n",
    "xgboost_model = xgboost.train(\n",
    "    hyperparameters,\n",
    "    train_dmatrix,\n",
    "    num_round,\n",
    "    evals=[(train_dmatrix, \"train\"), (validation_dmatrix, \"validation\")],\n",
    "    early_stopping_rounds=5,\n",
    "    evals_result=evaluation_results,\n",
    ")"
   ]
  },
  {
   "cell_type": "code",
   "execution_count": 8,
   "id": "93c359be-7a25-4c1d-a661-738acbea9a34",
   "metadata": {},
   "outputs": [],
   "source": [
    "#xgboost_model.save_model('xgboost-model')"
   ]
  },
  {
   "cell_type": "code",
   "execution_count": 9,
   "id": "8632e9cf-5e3a-4b83-a2bb-e7621d3d81a9",
   "metadata": {},
   "outputs": [],
   "source": [
    "    \n",
    "#model_xgb_2 = xgboost.Booster()\n",
    "#model_xgb_2.load_model(\"xgboost-model\")"
   ]
  },
  {
   "cell_type": "markdown",
   "id": "48992a34-093e-4966-a201-7e13255fe45e",
   "metadata": {},
   "source": [
    "### Evaluate"
   ]
  },
  {
   "cell_type": "code",
   "execution_count": 18,
   "id": "99913f08-5716-46ef-9ba3-d9d65514c92f",
   "metadata": {},
   "outputs": [],
   "source": [
    "from sklearn.metrics import mean_squared_error\n",
    "from sklearn.metrics import accuracy_score, classification_report, roc_auc_score"
   ]
  },
  {
   "cell_type": "code",
   "execution_count": 19,
   "id": "82aa7cd8-931e-4d5a-ab92-6f28a49f736e",
   "metadata": {},
   "outputs": [
    {
     "name": "stdout",
     "output_type": "stream",
     "text": [
      "evaluation report: {'regression_metrics': {'mse': {'value': 0.08701103, 'standard_deviation': 0.29495305}}}\n"
     ]
    }
   ],
   "source": [
    "y_test = test_data_df.iloc[:, 0].to_numpy()\n",
    "    \n",
    "test_data_df.drop(test_data_df.columns[0], axis=1, inplace=True)\n",
    "x_test = test_data_df.to_numpy()\n",
    "\n",
    "predictions = xgboost_model.predict(xgboost.DMatrix(x_test))\n",
    "mse = mean_squared_error(y_test, predictions)\n",
    "\n",
    "std = numpy.std(y_test - predictions)\n",
    "acc = accuracy_score(y_test, predictions.round())\n",
    "\n",
    "report_dict = {\n",
    "        \"regression_metrics\": {\n",
    "            \"mse\": {\"value\": mse, \"standard_deviation\": std},\n",
    "        },\n",
    "    }\n",
    "\n",
    "print(f\"evaluation report: {report_dict}\")"
   ]
  },
  {
   "cell_type": "code",
   "execution_count": null,
   "id": "f2e15b83-959f-4cb1-854f-51dee05d03ed",
   "metadata": {},
   "outputs": [],
   "source": []
  }
 ],
 "metadata": {
  "kernelspec": {
   "display_name": "Python 3 (ipykernel)",
   "language": "python",
   "name": "python3"
  },
  "language_info": {
   "codemirror_mode": {
    "name": "ipython",
    "version": 3
   },
   "file_extension": ".py",
   "mimetype": "text/x-python",
   "name": "python",
   "nbconvert_exporter": "python",
   "pygments_lexer": "ipython3",
   "version": "3.10.14"
  }
 },
 "nbformat": 4,
 "nbformat_minor": 5
}
