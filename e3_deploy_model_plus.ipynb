{
 "cells": [
  {
   "cell_type": "code",
   "execution_count": null,
   "id": "3b322ce4-5b60-4990-934f-cd9f035a851c",
   "metadata": {},
   "outputs": [],
   "source": [
    "# https://github.com/aws/amazon-sagemaker-examples/tree/main/sagemaker-python-sdk/scikit_learn_inference_pipeline"
   ]
  },
  {
   "cell_type": "code",
   "execution_count": 13,
   "id": "2ff2f2fd-6a65-4738-9986-6c6861a53212",
   "metadata": {},
   "outputs": [],
   "source": [
    "import sagemaker\n",
    "from sagemaker.workflow.pipeline_context import PipelineSession\n",
    "from sagemaker.sklearn import SKLearnModel\n",
    "from sagemaker.xgboost import XGBoostModel\n",
    "\n",
    "sklearn_model = SKLearnModel(\n",
    "    model_data=None,  # Not needed because this is a script\n",
    "    role=sagemaker.get_execution_role(),\n",
    "    entry_point='0_sklearn_inference.py',\n",
    "    framework_version='0.23-1',  # Ensure this matches your SageMaker SKLearn container version\n",
    "    sagemaker_session=sagemaker.Session()\n",
    ")\n",
    "\n",
    "xgboost_model = XGBoostModel(\n",
    "   model_data='s3://ktzouvan-trading-point-sagemaker-poc/models/pipelines-3ol04e0v16ml-training-step-sALSc8gqXi/output/model.tar.gz',\n",
    "   entry_point='0_xgboost_inference.py',\n",
    "   framework_version='1.7-1',\n",
    "   role=sagemaker.get_execution_role(),\n",
    ")"
   ]
  },
  {
   "cell_type": "code",
   "execution_count": null,
   "id": "8ee5fb78-dd82-46e5-8fa2-a461e9eb0c9d",
   "metadata": {},
   "outputs": [],
   "source": [
    "from sagemaker.workflow.model_step import ModelStep\n",
    "from sagemaker import PipelineModel\n",
    "\n",
    "pipeline_model = PipelineModel(\n",
    "   models=[sklearn_model, xgboost_model],\n",
    "   role=role,sagemaker_session=pipeline_session,\n",
    ")\n",
    "\n",
    "register_model_step_args = pipeline_model.register(\n",
    "   content_types=[\"application/json\"],\n",
    "   response_types=[\"application/json\"],\n",
    "   inference_instances=[\"ml.m5.large\"],\n",
    "   transform_instances=[\"ml.m5.large\"],\n",
    "   model_package_group_name='container-two',"
   ]
  },
  {
   "cell_type": "raw",
   "id": "21902438-79fe-4cef-836f-f4673bbf8475",
   "metadata": {},
   "source": [
    "xgboost_model.deploy(\n",
    "    initial_instance_count=1,\n",
    "    instance_type='ml.m5.xlarge'\n",
    ")"
   ]
  }
 ],
 "metadata": {
  "kernelspec": {
   "display_name": "Python 3 (ipykernel)",
   "language": "python",
   "name": "python3"
  },
  "language_info": {
   "codemirror_mode": {
    "name": "ipython",
    "version": 3
   },
   "file_extension": ".py",
   "mimetype": "text/x-python",
   "name": "python",
   "nbconvert_exporter": "python",
   "pygments_lexer": "ipython3",
   "version": "3.10.14"
  }
 },
 "nbformat": 4,
 "nbformat_minor": 5
}
