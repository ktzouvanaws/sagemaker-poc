{
 "cells": [
  {
   "cell_type": "code",
   "execution_count": null,
   "id": "3b322ce4-5b60-4990-934f-cd9f035a851c",
   "metadata": {},
   "outputs": [],
   "source": [
    "# https://github.com/aws/amazon-sagemaker-examples/tree/main/sagemaker-python-sdk/scikit_learn_inference_pipeline"
   ]
  },
  {
   "cell_type": "code",
   "execution_count": 11,
   "id": "2ff2f2fd-6a65-4738-9986-6c6861a53212",
   "metadata": {},
   "outputs": [],
   "source": [
    "import sagemaker\n",
    "from sagemaker.workflow.pipeline_context import PipelineSession\n",
    "from sagemaker.sklearn import SKLearnModel\n",
    "from sagemaker.xgboost import XGBoostModel\n",
    "from sagemaker.workflow.model_step import ModelStep\n",
    "from sagemaker import PipelineModel"
   ]
  },
  {
   "cell_type": "code",
   "execution_count": 12,
   "id": "041dc69d-b6ca-44e4-8fea-7e9ed5f1d482",
   "metadata": {},
   "outputs": [],
   "source": [
    "sagemaker_session = sagemaker.Session()\n",
    "\n",
    "sklearn_model = SKLearnModel(\n",
    "    # next line is something like a hack. We configure model_data, even though we need to execute only pre-processing.\n",
    "    # Reason for this is the validation executed by SageMaker. As such we define the xgboost model path or a dummy path in general\n",
    "    # to pass throught the validation step. Model obviously is never applied.\n",
    "    model_data='s3://ktzouvan-trading-point-sagemaker-poc/models/pipelines-3ol04e0v16ml-training-step-sALSc8gqXi/output/model.tar.gz',\n",
    "    entry_point='0_sklearn_inference.py',\n",
    "    framework_version='0.23-1',  # Ensure this matches your SageMaker SKLearn container version\n",
    "    role=sagemaker.get_execution_role(),\n",
    "    sagemaker_session=sagemaker_session\n",
    ")\n",
    "\n",
    "xgboost_model = XGBoostModel(\n",
    "   model_data='s3://ktzouvan-trading-point-sagemaker-poc/models/pipelines-3ol04e0v16ml-training-step-sALSc8gqXi/output/model.tar.gz',\n",
    "   entry_point='0_xgboost_inference.py',\n",
    "   framework_version='1.7-1',\n",
    "   role=sagemaker.get_execution_role(),\n",
    "   sagemaker_session=sagemaker_session\n",
    ")\n",
    "\n",
    "pipeline_model = PipelineModel(\n",
    "   name='preprocessXGBboost',\n",
    "   models=[sklearn_model, xgboost_model],\n",
    "   role=sagemaker.get_execution_role(),\n",
    "   sagemaker_session=sagemaker_session,\n",
    ")"
   ]
  },
  {
   "cell_type": "raw",
   "id": "e8c116d7-fde3-4220-adb8-878b4c84a3da",
   "metadata": {},
   "source": [
    "register_model_step_args = pipeline_model.register(\n",
    "   content_types=[\"application/json\"],\n",
    "   response_types=[\"application/json\"],\n",
    "   inference_instances=[\"ml.m5.large\"],\n",
    "   transform_instances=[\"ml.m5.large\"],\n",
    "   model_package_group_name='poc-inference-model'\n",
    ")"
   ]
  },
  {
   "cell_type": "code",
   "execution_count": null,
   "id": "386cb7e9-868f-4a31-9bce-f50f833c474d",
   "metadata": {},
   "outputs": [
    {
     "name": "stdout",
     "output_type": "stream",
     "text": [
      "------"
     ]
    }
   ],
   "source": [
    "pipeline_model.deploy(\n",
    "    endpoint_name= 'preprocessXGBboost',\n",
    "    initial_instance_count=1,\n",
    "    instance_type='ml.m5.xlarge'\n",
    ")"
   ]
  },
  {
   "cell_type": "code",
   "execution_count": null,
   "id": "2db2680c-dad6-4917-ba1c-ad3eec42158f",
   "metadata": {},
   "outputs": [],
   "source": []
  }
 ],
 "metadata": {
  "kernelspec": {
   "display_name": "Python 3 (ipykernel)",
   "language": "python",
   "name": "python3"
  },
  "language_info": {
   "codemirror_mode": {
    "name": "ipython",
    "version": 3
   },
   "file_extension": ".py",
   "mimetype": "text/x-python",
   "name": "python",
   "nbconvert_exporter": "python",
   "pygments_lexer": "ipython3",
   "version": "3.10.14"
  }
 },
 "nbformat": 4,
 "nbformat_minor": 5
}
