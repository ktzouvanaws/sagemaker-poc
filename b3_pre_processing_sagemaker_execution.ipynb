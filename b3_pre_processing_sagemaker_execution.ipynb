{
 "cells": [
  {
   "cell_type": "markdown",
   "id": "b1bfe6cb-a117-484a-a8b5-111bc6a0c004",
   "metadata": {},
   "source": [
    "### Load Libraries"
   ]
  },
  {
   "cell_type": "code",
   "execution_count": 1,
   "id": "a3834a14-49f9-47b9-8d15-3b643e7d81a2",
   "metadata": {
    "editable": true,
    "slideshow": {
     "slide_type": ""
    },
    "tags": []
   },
   "outputs": [
    {
     "name": "stdout",
     "output_type": "stream",
     "text": [
      "sagemaker.config INFO - Not applying SDK defaults from location: /etc/xdg/sagemaker/config.yaml\n",
      "sagemaker.config INFO - Not applying SDK defaults from location: /home/sagemaker-user/.config/sagemaker/config.yaml\n"
     ]
    }
   ],
   "source": [
    "from sagemaker.processing import ProcessingInput, ProcessingOutput\n",
    "from sagemaker.sklearn.processing import SKLearnProcessor\n",
    "from sagemaker import get_execution_role"
   ]
  },
  {
   "cell_type": "markdown",
   "id": "980fa978-e011-431d-8a47-89f018e13656",
   "metadata": {
    "editable": true,
    "slideshow": {
     "slide_type": ""
    },
    "tags": []
   },
   "source": [
    "### Create environment"
   ]
  },
  {
   "cell_type": "code",
   "execution_count": 2,
   "id": "bc805315-c744-4d32-8741-73913b9efa7c",
   "metadata": {
    "editable": true,
    "slideshow": {
     "slide_type": ""
    },
    "tags": []
   },
   "outputs": [],
   "source": [
    "sklearn_processor = SKLearnProcessor(\n",
    "    framework_version=\"0.23-1\",\n",
    "    role=get_execution_role(),\n",
    "    instance_type=\"ml.m5.large\",\n",
    "    instance_count=1,\n",
    "    base_job_name='sm-tp-poc-pre-process'\n",
    ")"
   ]
  },
  {
   "cell_type": "markdown",
   "id": "5c7bede8-4333-481b-ab59-761f7bf21621",
   "metadata": {
    "editable": true,
    "slideshow": {
     "slide_type": ""
    },
    "tags": []
   },
   "source": [
    "### Define Inputs, Outputs"
   ]
  },
  {
   "cell_type": "code",
   "execution_count": 3,
   "id": "c9329d5e-ad65-401a-9764-9b376a1ca9a4",
   "metadata": {
    "editable": true,
    "slideshow": {
     "slide_type": ""
    },
    "tags": []
   },
   "outputs": [],
   "source": [
    "# inputs\n",
    "s3_input_file = 's3://ktzouvan-trading-point-sagemaker-poc/datasets/marketing/bank-additional-full.csv'\n",
    "dataset_processing_input = ProcessingInput(source=s3_input_file, destination=\"/opt/ml/processing/input\", s3_input_mode=\"File\", s3_data_distribution_type=\"ShardedByS3Key\")\n",
    "\n",
    "# outputs\n",
    "s3_output_path = f's3://ktzouvan-trading-point-sagemaker-poc/datasets/marketing/'\n",
    "splits_processing_output = ProcessingOutput(source=\"/opt/ml/processing/output\", destination=s3_output_path)"
   ]
  },
  {
   "cell_type": "markdown",
   "id": "3f1d62f8-838e-44f8-9fd8-09072d12ba3b",
   "metadata": {},
   "source": [
    "### Run pre-processing"
   ]
  },
  {
   "cell_type": "code",
   "execution_count": null,
   "id": "e8874df7-e9ae-455e-9beb-cb961cabed1f",
   "metadata": {
    "editable": true,
    "slideshow": {
     "slide_type": ""
    },
    "tags": []
   },
   "outputs": [
    {
     "name": "stderr",
     "output_type": "stream",
     "text": [
      "INFO:sagemaker:Creating processing-job with name sm-tp-poc-pre-process-2024-09-01-17-49-00-816\n"
     ]
    },
    {
     "name": "stdout",
     "output_type": "stream",
     "text": [
      "............\u001b[34mINFO:__main__:/opt/ml/processing/input/bank-additional-full.csv\u001b[0m\n",
      "\u001b[34mINFO:__main__:/opt/ml/processing/output\u001b[0m\n",
      "\u001b[34mINFO:numexpr.utils:NumExpr defaulting to 2 threads.\u001b[0m\n",
      "\u001b[34mpre-processing complete\u001b[0m\n"
     ]
    }
   ],
   "source": [
    "sklearn_processor.run(\n",
    "    code='b1_pre_processing.py',\n",
    "    arguments=['--input_path', '/opt/ml/processing/input','--input_file', 'bank-additional-full.csv','--output_path', '/opt/ml/processing/output'],\n",
    "    inputs=[dataset_processing_input],\n",
    "    outputs=[splits_processing_output]\n",
    ")"
   ]
  },
  {
   "cell_type": "code",
   "execution_count": null,
   "id": "9b62fc7e-1398-4bac-aff5-531de8b3bf73",
   "metadata": {},
   "outputs": [],
   "source": []
  }
 ],
 "metadata": {
  "kernelspec": {
   "display_name": "Python 3 (ipykernel)",
   "language": "python",
   "name": "python3"
  },
  "language_info": {
   "codemirror_mode": {
    "name": "ipython",
    "version": 3
   },
   "file_extension": ".py",
   "mimetype": "text/x-python",
   "name": "python",
   "nbconvert_exporter": "python",
   "pygments_lexer": "ipython3",
   "version": "3.10.14"
  }
 },
 "nbformat": 4,
 "nbformat_minor": 5
}
